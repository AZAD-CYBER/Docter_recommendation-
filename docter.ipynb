{
  "cells": [
    {
      "cell_type": "code",
      "execution_count": 19,
      "metadata": {
        "id": "789_aYWXzmaO"
      },
      "outputs": [],
      "source": [
        "import pandas as pd\n",
        "from sklearn.neighbors import NearestNeighbors\n",
        "from sklearn.preprocessing import LabelEncoder\n",
        "from sklearn.preprocessing import StandardScaler\n",
        "from sklearn.model_selection import train_test_split\n",
        "import seaborn as sns\n",
        "import matplotlib.pyplot as plt\n",
        "import warnings\n",
        "warnings.filterwarnings(\"ignore\")"
      ]
    },
    {
      "cell_type": "code",
      "execution_count": 20,
      "metadata": {
        "id": "iaJXxkBmzn6h"
      },
      "outputs": [],
      "source": [
        "# load data into a pandas dataframe\n",
        "df = pd.read_csv('doctor.csv', encoding='ISO-8859-1')"
      ]
    },
    {
      "cell_type": "code",
      "execution_count": 21,
      "metadata": {
        "colab": {
          "base_uri": "https://localhost:8080/",
          "height": 206
        },
        "id": "WyL684vH5uBJ",
        "outputId": "51efb91f-179b-4e00-89f2-888a1406d0d2"
      },
      "outputs": [
        {
          "data": {
            "text/html": [
              "<div>\n",
              "<style scoped>\n",
              "    .dataframe tbody tr th:only-of-type {\n",
              "        vertical-align: middle;\n",
              "    }\n",
              "\n",
              "    .dataframe tbody tr th {\n",
              "        vertical-align: top;\n",
              "    }\n",
              "\n",
              "    .dataframe thead th {\n",
              "        text-align: right;\n",
              "    }\n",
              "</style>\n",
              "<table border=\"1\" class=\"dataframe\">\n",
              "  <thead>\n",
              "    <tr style=\"text-align: right;\">\n",
              "      <th></th>\n",
              "      <th>name</th>\n",
              "      <th>rating</th>\n",
              "      <th>experience</th>\n",
              "      <th>location</th>\n",
              "      <th>speciality</th>\n",
              "      <th>charges</th>\n",
              "    </tr>\n",
              "  </thead>\n",
              "  <tbody>\n",
              "    <tr>\n",
              "      <th>0</th>\n",
              "      <td>Kholi</td>\n",
              "      <td>7.9</td>\n",
              "      <td>39</td>\n",
              "      <td>Chembur East</td>\n",
              "      <td>Neurologist</td>\n",
              "      <td>1500</td>\n",
              "    </tr>\n",
              "    <tr>\n",
              "      <th>1</th>\n",
              "      <td>Ramesh</td>\n",
              "      <td>9.1</td>\n",
              "      <td>17</td>\n",
              "      <td>Andheri West</td>\n",
              "      <td>Psychiatrist</td>\n",
              "      <td>2000</td>\n",
              "    </tr>\n",
              "    <tr>\n",
              "      <th>2</th>\n",
              "      <td>Naazneen</td>\n",
              "      <td>9.8</td>\n",
              "      <td>18</td>\n",
              "      <td>Sion East</td>\n",
              "      <td>Psychiatrist</td>\n",
              "      <td>1500</td>\n",
              "    </tr>\n",
              "    <tr>\n",
              "      <th>3</th>\n",
              "      <td>Darpan</td>\n",
              "      <td>2.0</td>\n",
              "      <td>13</td>\n",
              "      <td>Mahim</td>\n",
              "      <td>Neurologist</td>\n",
              "      <td>1800</td>\n",
              "    </tr>\n",
              "    <tr>\n",
              "      <th>4</th>\n",
              "      <td>Priyanaka</td>\n",
              "      <td>9.0</td>\n",
              "      <td>36</td>\n",
              "      <td>Mulund West</td>\n",
              "      <td>Neurologist</td>\n",
              "      <td>2000</td>\n",
              "    </tr>\n",
              "  </tbody>\n",
              "</table>\n",
              "</div>"
            ],
            "text/plain": [
              "        name  rating  experience      location    speciality  charges\n",
              "0      Kholi     7.9          39  Chembur East   Neurologist     1500\n",
              "1    Ramesh      9.1          17  Andheri West  Psychiatrist     2000\n",
              "2  Naazneen      9.8          18     Sion East  Psychiatrist     1500\n",
              "3     Darpan     2.0          13         Mahim   Neurologist     1800\n",
              "4  Priyanaka     9.0          36   Mulund West   Neurologist     2000"
            ]
          },
          "execution_count": 21,
          "metadata": {},
          "output_type": "execute_result"
        }
      ],
      "source": [
        "df.head()"
      ]
    },
    {
      "cell_type": "code",
      "execution_count": 22,
      "metadata": {
        "colab": {
          "base_uri": "https://localhost:8080/"
        },
        "id": "qIMB5qr53g-t",
        "outputId": "223ac643-3358-4935-b68e-37f30acb3369"
      },
      "outputs": [
        {
          "data": {
            "text/plain": [
              "(54, 6)"
            ]
          },
          "execution_count": 22,
          "metadata": {},
          "output_type": "execute_result"
        }
      ],
      "source": [
        "df.shape"
      ]
    },
    {
      "cell_type": "code",
      "execution_count": 23,
      "metadata": {
        "colab": {
          "base_uri": "https://localhost:8080/"
        },
        "id": "-BiZwYYp3lzy",
        "outputId": "c85b571e-cbb4-4b91-8226-0f319ec9c1b3"
      },
      "outputs": [
        {
          "data": {
            "text/plain": [
              "name          0\n",
              "rating        6\n",
              "experience    0\n",
              "location      0\n",
              "speciality    0\n",
              "charges       0\n",
              "dtype: int64"
            ]
          },
          "execution_count": 23,
          "metadata": {},
          "output_type": "execute_result"
        }
      ],
      "source": [
        "\n",
        "df.isnull().sum()"
      ]
    },
    {
      "cell_type": "code",
      "execution_count": 24,
      "metadata": {
        "colab": {
          "base_uri": "https://localhost:8080/",
          "height": 514
        },
        "id": "eGegE0ya4Z7b",
        "outputId": "56ce1266-5889-4c30-8ea7-a9119de2083a"
      },
      "outputs": [
        {
          "data": {
            "text/plain": [
              "<AxesSubplot:xlabel='rating', ylabel='Density'>"
            ]
          },
          "execution_count": 24,
          "metadata": {},
          "output_type": "execute_result"
        },
        {
          "data": {
            "image/png": "[encoded data removed]",
            "text/plain": [
              "<Figure size 576x576 with 1 Axes>"
            ]
          },
          "metadata": {
            "needs_background": "light"
          },
          "output_type": "display_data"
        }
      ],
      "source": [
        "\n",
        "# analyse the distribution of data in the salary\n",
        "fig, ax = plt.subplots(figsize=(8,8))\n",
        "sns.distplot(df.rating)\n",
        "     "
      ]
    },
    {
      "cell_type": "code",
      "execution_count": 25,
      "metadata": {
        "id": "mW25Y-sU4m_w"
      },
      "outputs": [],
      "source": [
        "df['rating'].fillna(df['rating'].median(),inplace=True)"
      ]
    },
    {
      "cell_type": "code",
      "execution_count": 26,
      "metadata": {
        "colab": {
          "base_uri": "https://localhost:8080/"
        },
        "id": "Kv2XZ6914-3g",
        "outputId": "0fec3f02-edc3-4510-cc4a-fe0fff39032c"
      },
      "outputs": [
        {
          "data": {
            "text/plain": [
              "name          0\n",
              "rating        0\n",
              "experience    0\n",
              "location      0\n",
              "speciality    0\n",
              "charges       0\n",
              "dtype: int64"
            ]
          },
          "execution_count": 26,
          "metadata": {},
          "output_type": "execute_result"
        }
      ],
      "source": [
        "df.isnull().sum()"
      ]
    },
    {
      "cell_type": "code",
      "execution_count": 27,
      "metadata": {
        "colab": {
          "base_uri": "https://localhost:8080/"
        },
        "id": "VNL_pACq5GE7",
        "outputId": "b131820c-5da0-47a6-97cc-95a4256fd3ea"
      },
      "outputs": [
        {
          "data": {
            "text/plain": [
              "10.0    15\n",
              "9.6     10\n",
              "9.2      3\n",
              "9.9      3\n",
              "9.7      3\n",
              "9.8      2\n",
              "2.0      2\n",
              "9.0      2\n",
              "9.3      2\n",
              "8.3      2\n",
              "9.4      2\n",
              "7.5      1\n",
              "9.5      1\n",
              "8.7      1\n",
              "7.9      1\n",
              "7.3      1\n",
              "9.1      1\n",
              "8.6      1\n",
              "7.1      1\n",
              "Name: rating, dtype: int64"
            ]
          },
          "execution_count": 27,
          "metadata": {},
          "output_type": "execute_result"
        }
      ],
      "source": [
        "df['rating'].value_counts()"
      ]
    },
    {
      "cell_type": "code",
      "execution_count": 28,
      "metadata": {
        "id": "RZIeG5Rbzq8P"
      },
      "outputs": [],
      "source": [
        "# extract features\n",
        "features = df[['rating', 'experience']]"
      ]
    },
    {
      "cell_type": "code",
      "execution_count": 29,
      "metadata": {
        "id": "4FWX4jnVzt5E"
      },
      "outputs": [],
      "source": [
        "# convert location to numerical values\n",
        "le = LabelEncoder()\n",
        "df['location'] = le.fit_transform(df['location'])\n",
        "features['location'] = df['location']\n",
        "# df.loc[:, 'location'] = df['location']\n"
      ]
    },
    {
      "cell_type": "code",
      "execution_count": 30,
      "metadata": {
        "colab": {
          "base_uri": "https://localhost:8080/",
          "height": 363
        },
        "id": "yVdBBFA661Dw",
        "outputId": "45eac988-a114-486c-f4d5-416273b6239e"
      },
      "outputs": [
        {
          "data": {
            "text/html": [
              "<div>\n",
              "<style scoped>\n",
              "    .dataframe tbody tr th:only-of-type {\n",
              "        vertical-align: middle;\n",
              "    }\n",
              "\n",
              "    .dataframe tbody tr th {\n",
              "        vertical-align: top;\n",
              "    }\n",
              "\n",
              "    .dataframe thead th {\n",
              "        text-align: right;\n",
              "    }\n",
              "</style>\n",
              "<table border=\"1\" class=\"dataframe\">\n",
              "  <thead>\n",
              "    <tr style=\"text-align: right;\">\n",
              "      <th></th>\n",
              "      <th>rating</th>\n",
              "      <th>experience</th>\n",
              "      <th>location</th>\n",
              "    </tr>\n",
              "  </thead>\n",
              "  <tbody>\n",
              "    <tr>\n",
              "      <th>0</th>\n",
              "      <td>7.9</td>\n",
              "      <td>39</td>\n",
              "      <td>7</td>\n",
              "    </tr>\n",
              "    <tr>\n",
              "      <th>1</th>\n",
              "      <td>9.1</td>\n",
              "      <td>17</td>\n",
              "      <td>1</td>\n",
              "    </tr>\n",
              "    <tr>\n",
              "      <th>2</th>\n",
              "      <td>9.8</td>\n",
              "      <td>18</td>\n",
              "      <td>24</td>\n",
              "    </tr>\n",
              "    <tr>\n",
              "      <th>3</th>\n",
              "      <td>2.0</td>\n",
              "      <td>13</td>\n",
              "      <td>16</td>\n",
              "    </tr>\n",
              "    <tr>\n",
              "      <th>4</th>\n",
              "      <td>9.0</td>\n",
              "      <td>36</td>\n",
              "      <td>20</td>\n",
              "    </tr>\n",
              "    <tr>\n",
              "      <th>5</th>\n",
              "      <td>8.6</td>\n",
              "      <td>13</td>\n",
              "      <td>20</td>\n",
              "    </tr>\n",
              "    <tr>\n",
              "      <th>6</th>\n",
              "      <td>10.0</td>\n",
              "      <td>43</td>\n",
              "      <td>22</td>\n",
              "    </tr>\n",
              "    <tr>\n",
              "      <th>7</th>\n",
              "      <td>9.3</td>\n",
              "      <td>9</td>\n",
              "      <td>16</td>\n",
              "    </tr>\n",
              "    <tr>\n",
              "      <th>8</th>\n",
              "      <td>10.0</td>\n",
              "      <td>19</td>\n",
              "      <td>2</td>\n",
              "    </tr>\n",
              "    <tr>\n",
              "      <th>9</th>\n",
              "      <td>9.6</td>\n",
              "      <td>27</td>\n",
              "      <td>20</td>\n",
              "    </tr>\n",
              "  </tbody>\n",
              "</table>\n",
              "</div>"
            ],
            "text/plain": [
              "   rating  experience  location\n",
              "0     7.9          39         7\n",
              "1     9.1          17         1\n",
              "2     9.8          18        24\n",
              "3     2.0          13        16\n",
              "4     9.0          36        20\n",
              "5     8.6          13        20\n",
              "6    10.0          43        22\n",
              "7     9.3           9        16\n",
              "8    10.0          19         2\n",
              "9     9.6          27        20"
            ]
          },
          "execution_count": 30,
          "metadata": {},
          "output_type": "execute_result"
        }
      ],
      "source": [
        "features.head(10)"
      ]
    },
    {
      "cell_type": "code",
      "execution_count": 31,
      "metadata": {
        "colab": {
          "base_uri": "https://localhost:8080/",
          "height": 300
        },
        "id": "CUBlOvd07Gtu",
        "outputId": "3954ef0c-97ff-4eda-b740-3a10eb193dcc"
      },
      "outputs": [
        {
          "data": {
            "text/html": [
              "<div>\n",
              "<style scoped>\n",
              "    .dataframe tbody tr th:only-of-type {\n",
              "        vertical-align: middle;\n",
              "    }\n",
              "\n",
              "    .dataframe tbody tr th {\n",
              "        vertical-align: top;\n",
              "    }\n",
              "\n",
              "    .dataframe thead th {\n",
              "        text-align: right;\n",
              "    }\n",
              "</style>\n",
              "<table border=\"1\" class=\"dataframe\">\n",
              "  <thead>\n",
              "    <tr style=\"text-align: right;\">\n",
              "      <th></th>\n",
              "      <th>rating</th>\n",
              "      <th>experience</th>\n",
              "      <th>location</th>\n",
              "    </tr>\n",
              "  </thead>\n",
              "  <tbody>\n",
              "    <tr>\n",
              "      <th>count</th>\n",
              "      <td>54.000000</td>\n",
              "      <td>54.000000</td>\n",
              "      <td>54.000000</td>\n",
              "    </tr>\n",
              "    <tr>\n",
              "      <th>mean</th>\n",
              "      <td>9.142593</td>\n",
              "      <td>18.018519</td>\n",
              "      <td>13.351852</td>\n",
              "    </tr>\n",
              "    <tr>\n",
              "      <th>std</th>\n",
              "      <td>1.582642</td>\n",
              "      <td>9.580820</td>\n",
              "      <td>8.000371</td>\n",
              "    </tr>\n",
              "    <tr>\n",
              "      <th>min</th>\n",
              "      <td>2.000000</td>\n",
              "      <td>3.000000</td>\n",
              "      <td>0.000000</td>\n",
              "    </tr>\n",
              "    <tr>\n",
              "      <th>25%</th>\n",
              "      <td>9.200000</td>\n",
              "      <td>12.250000</td>\n",
              "      <td>6.250000</td>\n",
              "    </tr>\n",
              "    <tr>\n",
              "      <th>50%</th>\n",
              "      <td>9.600000</td>\n",
              "      <td>16.000000</td>\n",
              "      <td>16.000000</td>\n",
              "    </tr>\n",
              "    <tr>\n",
              "      <th>75%</th>\n",
              "      <td>10.000000</td>\n",
              "      <td>23.000000</td>\n",
              "      <td>20.000000</td>\n",
              "    </tr>\n",
              "    <tr>\n",
              "      <th>max</th>\n",
              "      <td>10.000000</td>\n",
              "      <td>43.000000</td>\n",
              "      <td>25.000000</td>\n",
              "    </tr>\n",
              "  </tbody>\n",
              "</table>\n",
              "</div>"
            ],
            "text/plain": [
              "          rating  experience   location\n",
              "count  54.000000   54.000000  54.000000\n",
              "mean    9.142593   18.018519  13.351852\n",
              "std     1.582642    9.580820   8.000371\n",
              "min     2.000000    3.000000   0.000000\n",
              "25%     9.200000   12.250000   6.250000\n",
              "50%     9.600000   16.000000  16.000000\n",
              "75%    10.000000   23.000000  20.000000\n",
              "max    10.000000   43.000000  25.000000"
            ]
          },
          "execution_count": 31,
          "metadata": {},
          "output_type": "execute_result"
        }
      ],
      "source": [
        "features.describe()"
      ]
    },
    {
      "cell_type": "code",
      "execution_count": 32,
      "metadata": {
        "id": "zzQ03SJ6A5gu"
      },
      "outputs": [],
      "source": [
        "\n",
        "\n",
        "# separating the data and labels\n",
        "X = features.drop(columns = 'rating', axis=1)\n",
        "Y = features['rating']\n",
        "     \n"
      ]
    },
    {
      "cell_type": "code",
      "execution_count": 33,
      "metadata": {
        "id": "b4PADrUbMTof"
      },
      "outputs": [],
      "source": [
        "scaler = StandardScaler()\n",
        "scaler.fit(features)\n",
        "X_standardized = scaler.transform(features)"
      ]
    },
    {
      "cell_type": "code",
      "execution_count": 34,
      "metadata": {
        "colab": {
          "base_uri": "https://localhost:8080/"
        },
        "id": "YtMI9zbGNTmj",
        "outputId": "99b5ef78-75e2-4427-eb99-2437a24fd371"
      },
      "outputs": [
        {
          "name": "stdout",
          "output_type": "stream",
          "text": [
            "[[-7.92510534e-01  2.21050975e+00 -8.01399682e-01]\n",
            " [-2.71650406e-02 -1.07306298e-01 -1.55840696e+00]\n",
            " [ 4.19286497e-01 -1.95102361e-03  1.34345428e+00]\n",
            " [-4.55545921e+00 -5.28727398e-01  3.34111238e-01]\n",
            " [-9.09438317e-02  1.89444392e+00  8.38782757e-01]\n",
            " [-3.46058996e-01 -5.28727398e-01  8.38782757e-01]\n",
            " [ 5.46844079e-01  2.63193085e+00  1.09111852e+00]\n",
            " [ 1.00392542e-01 -9.50148497e-01  3.34111238e-01]\n",
            " [ 5.46844079e-01  1.03404251e-01 -1.43223908e+00]\n",
            " [ 2.91728915e-01  9.46246450e-01  8.38782757e-01]\n",
            " [ 5.46844079e-01  2.08759526e-01  8.38782757e-01]\n",
            " [ 5.46844079e-01  6.30180625e-01  1.09111852e+00]\n",
            " [ 2.91728915e-01 -6.34082672e-01 -4.43924022e-02]\n",
            " [ 3.66137504e-02 -2.12661573e-01  8.38782757e-01]\n",
            " [ 5.46844079e-01 -1.95102361e-03  8.38782757e-01]\n",
            " [ 4.83065288e-01 -4.23372123e-01  1.21728640e+00]\n",
            " [ 5.46844079e-01 -1.26621432e+00 -1.70560282e-01]\n",
            " [-5.37395369e-01 -7.39437947e-01  5.86446997e-01]\n",
            " [-9.09438317e-02  7.35535900e-01  3.34111238e-01]\n",
            " [-5.37395369e-01 -4.23372123e-01  4.60279118e-01]\n",
            " [ 3.66137504e-02  1.03404251e-01  9.64950637e-01]\n",
            " [ 1.64171333e-01 -2.12661573e-01  8.17754777e-02]\n",
            " [ 5.46844079e-01 -5.28727398e-01  8.17754777e-02]\n",
            " [ 3.55507706e-01 -4.23372123e-01  5.86446997e-01]\n",
            " [ 4.83065288e-01 -5.28727398e-01 -1.30607120e+00]\n",
            " [ 1.00392542e-01  2.08759526e-01 -8.01399682e-01]\n",
            " [-1.17518328e+00  1.78908865e+00 -1.17990332e+00]\n",
            " [ 5.46844079e-01 -8.44793222e-01 -1.55840696e+00]\n",
            " [ 2.91728915e-01  8.40891175e-01  1.09111852e+00]\n",
            " [-1.04762570e+00 -8.44793222e-01  1.21728640e+00]\n",
            " [ 5.46844079e-01 -1.58228015e+00 -1.17990332e+00]\n",
            " [ 2.91728915e-01 -3.18016848e-01  1.46962216e+00]\n",
            " [ 5.46844079e-01 -1.37156960e+00  3.34111238e-01]\n",
            " [-4.55545921e+00 -1.37156960e+00 -1.43223908e+00]\n",
            " [ 2.91728915e-01 -2.12661573e-01 -2.96728162e-01]\n",
            " [ 2.91728915e-01 -2.12661573e-01 -1.05373544e+00]\n",
            " [ 3.55507706e-01 -2.12661573e-01 -5.49063922e-01]\n",
            " [ 4.19286497e-01 -2.12661573e-01 -1.43223908e+00]\n",
            " [ 2.91728915e-01 -4.23372123e-01  1.21728640e+00]\n",
            " [-2.82280205e-01  6.30180625e-01  1.09111852e+00]\n",
            " [ 2.91728915e-01  1.36766755e+00 -1.55840696e+00]\n",
            " [ 2.27950124e-01  2.42122030e+00  7.12614877e-01]\n",
            " [ 5.46844079e-01 -6.34082672e-01 -1.55840696e+00]\n",
            " [ 3.55507706e-01 -6.34082672e-01  1.21728640e+00]\n",
            " [ 4.83065288e-01 -1.95102361e-03 -1.68457484e+00]\n",
            " [ 2.91728915e-01 -1.37156960e+00 -8.01399682e-01]\n",
            " [ 1.64171333e-01  1.47302282e+00  2.07943358e-01]\n",
            " [ 5.46844079e-01 -4.23372123e-01  1.21728640e+00]\n",
            " [ 5.46844079e-01  1.26231227e+00  3.34111238e-01]\n",
            " [ 5.46844079e-01 -9.50148497e-01 -4.22896042e-01]\n",
            " [ 3.66137504e-02  1.47302282e+00 -1.55840696e+00]\n",
            " [ 2.91728915e-01 -3.18016848e-01 -6.75231802e-01]\n",
            " [ 5.46844079e-01 -1.16085905e+00 -9.27567562e-01]\n",
            " [-1.30274086e+00 -3.18016848e-01  3.34111238e-01]]\n"
          ]
        }
      ],
      "source": [
        "print(X_standardized)"
      ]
    },
    {
      "cell_type": "code",
      "execution_count": 35,
      "metadata": {
        "colab": {
          "base_uri": "https://localhost:8080/"
        },
        "id": "ngC6QmvHzwVU",
        "outputId": "f868bc40-6517-4a05-b0a3-5a90b0b3581d"
      },
      "outputs": [
        {
          "data": {
            "text/plain": [
              "NearestNeighbors(n_neighbors=53)"
            ]
          },
          "execution_count": 35,
          "metadata": {},
          "output_type": "execute_result"
        }
      ],
      "source": [
        "# train a KNN model\n",
        "knn = NearestNeighbors(n_neighbors=53)\n",
        "knn.fit(X_standardized)\n"
      ]
    },
    {
      "cell_type": "code",
      "execution_count": 36,
      "metadata": {
        "colab": {
          "base_uri": "https://localhost:8080/"
        },
        "id": "uwxNZIxhzzfd",
        "outputId": "aca0608b-c08b-430e-a05f-a5e6c33ab51a"
      },
      "outputs": [
        {
          "name": "stdout",
          "output_type": "stream",
          "text": [
            "Rima\n",
            "Paresh\n",
            "Adukia\n",
            "Rajesh \n",
            "Nikunj\n",
            "Dean \n",
            "Priyanaka\n",
            "Akanksha  \n",
            "Parul \n",
            "Jalpa\n",
            "Kader  \n",
            "Naazneen \n",
            "Parijat \n",
            "Anita \n",
            "Kaustubh \n",
            "Sureka  \n",
            "Prakhar \n",
            "Aditi \n",
            "Pavan\n",
            "Chetan \n",
            "Smit\n",
            "Sagar\n",
            "Sudheendra \n",
            "Adita \n",
            "Anjali \n",
            "Sneha   \n",
            "Prashant \n",
            "Smruti\n",
            "Nilesh\n",
            "Ankita\n",
            "Jyoti\n",
            "Shyam \n",
            "Rohann \n",
            "Sumedha \n",
            "Sunanda\n",
            "Santosh \n",
            "Kholi\n",
            "Vinod\n",
            "Chinmay \n",
            "Ketan \n",
            "Pruthviraj\n",
            "Abhidha\n",
            "Ramesh \n",
            "Shirish\n",
            "Austin \n",
            "Dhanashri \n",
            "Priyadarshani\n",
            "Aditya \n",
            "Anshu \n",
            "Rohit \n",
            "Pankaj  \n",
            "Pradeep \n",
            "Darpan\n"
          ]
        }
      ],
      "source": [
        "# recommend doctors to a user\n",
        "user = [10, 5, 1] \n",
        "distances, indices = knn.kneighbors([user])\n",
        "if 'name' in df.columns:\n",
        "    # rest of the code\n",
        "    for i in indices[0]:\n",
        "      print(df.iloc[i]['name'])\n",
        "      # print(df.iloc[i][\"rating\"],end=\" \")\n",
        "      # print(df.iloc[i][\"experience\"],end=\" \")\n",
        "      # print(df.iloc[i][\"location\"])\n",
        "      \n",
        "else:\n",
        "    print(\"The column 'name' is not present in the dataframe.\")\n",
        "# display the recommended doctors"
      ]
    }
  ],
  "metadata": {
    "colab": {
      "provenance": []
    },
    "kernelspec": {
      "display_name": "base",
      "language": "python",
      "name": "python3"
    },
    "language_info": {
      "codemirror_mode": {
        "name": "ipython",
        "version": 3
      },
      "file_extension": ".py",
      "mimetype": "text/x-python",
      "name": "python",
      "nbconvert_exporter": "python",
      "pygments_lexer": "ipython3",
      "version": "3.9.7"
    },
    "vscode": {
      "interpreter": {
        "hash": "5179d32cf6ec497baf3f8a3ef987cc77c5d2dc691fdde20a56316522f61a7323"
      }
    }
  },
  "nbformat": 4,
  "nbformat_minor": 0
}
